{
  "nbformat": 4,
  "nbformat_minor": 0,
  "metadata": {
    "colab": {
      "provenance": []
    },
    "kernelspec": {
      "name": "python3",
      "display_name": "Python 3"
    },
    "language_info": {
      "name": "python"
    }
  },
  "cells": [
    {
      "cell_type": "code",
      "source": [
        "from google.colab import drive\n",
        "drive.mount('/content/drive')"
      ],
      "metadata": {
        "id": "A8zTf_zFdD3m",
        "outputId": "20d3aacc-02b8-44e0-b553-3b5f349a2d1f",
        "colab": {
          "base_uri": "https://localhost:8080/"
        }
      },
      "execution_count": 22,
      "outputs": [
        {
          "output_type": "stream",
          "name": "stdout",
          "text": [
            "Drive already mounted at /content/drive; to attempt to forcibly remount, call drive.mount(\"/content/drive\", force_remount=True).\n"
          ]
        }
      ]
    },
    {
      "cell_type": "code",
      "source": [
        "import pandas as pd\n",
        "\n",
        "df = pd.read_csv(\"/content/drive/MyDrive/Reformed_Groups_Tin.csv\")\n",
        "df.head()"
      ],
      "metadata": {
        "id": "CzwBSQ5xdH3l"
      },
      "execution_count": null,
      "outputs": []
    },
    {
      "cell_type": "code",
      "source": [
        "# Importing required libraries\n",
        "from sklearn.datasets import load_iris\n",
        "from sklearn.model_selection import train_test_split\n",
        "from sklearn.ensemble import RandomForestClassifier\n",
        "from sklearn.metrics import accuracy_score\n",
        "\n",
        "\n",
        "columns_to_check = ['atomic_number_1', 'melting_point_1', 'thermal_conductivity_1', 'atomic_number_2', 'melting_point_2', 'density_2', 'thermal_conductivity_2','Melt_Type']\n",
        "\n",
        "nan_indices = df[df[columns_to_check].isnull().any(axis=1)].index\n",
        "temp_df = df.drop(nan_indices, inplace=False)\n",
        "\n",
        "# Load the Iris dataset\n",
        "X = temp_df[['atomic_number_1', 'melting_point_1', 'thermal_conductivity_1', 'atomic_number_2', 'melting_point_2', 'density_2', 'thermal_conductivity_2']]\n",
        "X['atomic_number_1'] = X['atomic_number_1'].astype('category')\n",
        "X['atomic_number_2'] = X['atomic_number_2'].astype('category')\n",
        "y = temp_df[\"Melt_Type\"].astype('category')\n",
        "\n",
        "# Split the data into training and testing sets\n",
        "X_train, X_test, y_train, y_test = train_test_split(X, y, test_size=0.2, random_state=42)\n",
        "\n",
        "# Initialize the Random Forest classifier\n",
        "rf_classifier = RandomForestClassifier(n_estimators=1000, random_state=42)\n",
        "\n",
        "# Train the classifier\n",
        "rf_classifier.fit(X_train, y_train)\n",
        "\n",
        "y_pred = rf_classifier.predict(X_test)\n",
        "\n",
        "# Calculate the accuracy of the model\n",
        "accuracy = accuracy_score(y_test, y_pred)\n",
        "print(\"Accuracy:\", accuracy)"
      ],
      "metadata": {
        "id": "cjvKq_39dT-s",
        "outputId": "38a8aa61-76fd-4051-df29-8dfdfbdd37e5",
        "colab": {
          "base_uri": "https://localhost:8080/"
        }
      },
      "execution_count": 30,
      "outputs": [
        {
          "output_type": "stream",
          "name": "stderr",
          "text": [
            "<ipython-input-30-c6301c9e24c2>:15: SettingWithCopyWarning: \n",
            "A value is trying to be set on a copy of a slice from a DataFrame.\n",
            "Try using .loc[row_indexer,col_indexer] = value instead\n",
            "\n",
            "See the caveats in the documentation: https://pandas.pydata.org/pandas-docs/stable/user_guide/indexing.html#returning-a-view-versus-a-copy\n",
            "  X['atomic_number_1'] = X['atomic_number_1'].astype('category')\n",
            "<ipython-input-30-c6301c9e24c2>:16: SettingWithCopyWarning: \n",
            "A value is trying to be set on a copy of a slice from a DataFrame.\n",
            "Try using .loc[row_indexer,col_indexer] = value instead\n",
            "\n",
            "See the caveats in the documentation: https://pandas.pydata.org/pandas-docs/stable/user_guide/indexing.html#returning-a-view-versus-a-copy\n",
            "  X['atomic_number_2'] = X['atomic_number_2'].astype('category')\n"
          ]
        },
        {
          "output_type": "stream",
          "name": "stdout",
          "text": [
            "Accuracy: 0.6653992395437263\n"
          ]
        }
      ]
    }
  ]
}